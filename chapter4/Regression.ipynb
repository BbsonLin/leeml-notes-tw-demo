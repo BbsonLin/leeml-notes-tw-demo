{
 "cells": [
  {
   "cell_type": "code",
   "execution_count": 1,
   "metadata": {},
   "outputs": [],
   "source": [
    "import numpy as np\n",
    "import matplotlib.pyplot as plt\n",
    "\n",
    "plt.rcParams['axes.unicode_minus'] = False # 解決負號顯示為方塊問題"
   ]
  },
  {
   "cell_type": "code",
   "execution_count": 2,
   "metadata": {},
   "outputs": [],
   "source": [
    "x_data = [338., 333., 328., 207., 226., 25., 179., 60., 208., 606.]\n",
    "y_data = [640., 633., 619., 393., 428., 27., 193., 66., 226., 1591.]\n",
    "\n",
    "# 轉換成 Numpy Array\n",
    "x_d = np.asarray(x_data)\n",
    "y_d = np.asarray(y_data)"
   ]
  },
  {
   "cell_type": "code",
   "execution_count": 3,
   "metadata": {},
   "outputs": [
    {
     "name": "stdout",
     "output_type": "stream",
     "text": [
      "X: [[-200 -199 -198 ... -103 -102 -101]\n",
      " [-200 -199 -198 ... -103 -102 -101]\n",
      " [-200 -199 -198 ... -103 -102 -101]\n",
      " ...\n",
      " [-200 -199 -198 ... -103 -102 -101]\n",
      " [-200 -199 -198 ... -103 -102 -101]\n",
      " [-200 -199 -198 ... -103 -102 -101]] (100, 100) 10000\n",
      "Y: [[-5.  -5.  -5.  ... -5.  -5.  -5. ]\n",
      " [-4.9 -4.9 -4.9 ... -4.9 -4.9 -4.9]\n",
      " [-4.8 -4.8 -4.8 ... -4.8 -4.8 -4.8]\n",
      " ...\n",
      " [ 4.7  4.7  4.7 ...  4.7  4.7  4.7]\n",
      " [ 4.8  4.8  4.8 ...  4.8  4.8  4.8]\n",
      " [ 4.9  4.9  4.9 ...  4.9  4.9  4.9]] (100, 100) 10000\n"
     ]
    }
   ],
   "source": [
    "x = np.arange(-200, -100, 1) # bias\n",
    "y = np.arange(-5, 5, 0.1) # weight\n",
    "Z = np.zeros((len(x), len(y)))\n",
    "X, Y = np.meshgrid(x, y)\n",
    "print('X:', X, X.shape, X.size)\n",
    "print('Y:', Y, Y.shape, Y.size)"
   ]
  },
  {
   "cell_type": "code",
   "execution_count": 4,
   "metadata": {},
   "outputs": [
    {
     "name": "stdout",
     "output_type": "stream",
     "text": [
      "Z: [[5192293.4        5188421.2        5184551.         ... 4826002.\n",
      "  4822323.8        4818647.6       ]\n",
      " [5058614.888      5054792.888      5050972.888      ... 4697192.888\n",
      "  4693564.888      4689938.888     ]\n",
      " [4926683.192      4922911.392      4919141.592      ... 4570130.592\n",
      "  4566552.792      4562976.992     ]\n",
      " ...\n",
      " [ 358653.03199999  359650.23199999  360649.43199999 ...  464693.43199999\n",
      "   465884.63199999  467077.83199999]\n",
      " [ 394415.67199999  395463.07199999  396512.47199999 ...  505325.47199999\n",
      "   506566.87199999  507810.27199999]\n",
      " [ 431925.12799999  433022.72799999  434122.32799999 ...  547704.32799998\n",
      "   548995.92799998  550289.52799998]] (100, 100) 10000\n"
     ]
    }
   ],
   "source": [
    "# bias 在 -200 到 -100 間； weight 在 -5 到 5 間，每個 x 和 y 的 Loss \n",
    "for i in range(len(x)):\n",
    "    for j in range(len(y)):\n",
    "        b = x[i]\n",
    "        w = y[j]\n",
    "        Z[j][i] = 0  # meshgrid 吐出结果：y为行，x为列\n",
    "        for n in range(len(x_data)):\n",
    "            Z[j][i] += (y_data[n] - b - w * x_data[n]) ** 2\n",
    "        Z[j][i] /= len(x_data)\n",
    "\n",
    "print('Z:', Z, Z.shape, Z.size)"
   ]
  },
  {
   "cell_type": "code",
   "execution_count": 13,
   "metadata": {},
   "outputs": [],
   "source": [
    "# 設定 b 和 w 初始值\n",
    "b = -120\n",
    "w = -4\n",
    "lr = 0.0000001\n",
    "iteration = 100000\n",
    "\n",
    "b_history = [b]\n",
    "w_history = [w]\n",
    "\n",
    "for i in range(iteration):\n",
    "\n",
    "    b_grad = 0.0\n",
    "    w_grad = 0.0\n",
    "\n",
    "    for n in range(len(x_data)):\n",
    "        # 計算對 b 和 w 偏微分後的值\n",
    "        b_grad = b_grad - 2.0*(y_data[n] - (b + w*x_data[n])) \n",
    "        w_grad = w_grad - 2.0*(y_data[n] - (b + w*x_data[n])) * x_data[n] # 對 w 做偏微分\n",
    "\n",
    "    # 更新參數 b 和 w\n",
    "    b = b - lr * b_grad\n",
    "    w = w - lr * w_grad\n",
    "\n",
    "    # 儲存每次更新後的 b 和 w\n",
    "    b_history.append(b)\n",
    "    w_history.append(w)"
   ]
  },
  {
   "cell_type": "code",
   "execution_count": 16,
   "metadata": {},
   "outputs": [
    {
     "data": {
      "image/png": "[encoded data removed]",
      "text/plain": [
       "<Figure size 432x288 with 1 Axes>"
      ]
     },
     "metadata": {},
     "output_type": "display_data"
    }
   ],
   "source": [
    "def show_gd_plot(b_spots, w_spots):\n",
    "    # 將更新點們畫在 Loss Function 的等高線圖中(也就是上面計算的 Z)\n",
    "    plt.contourf(x, y, Z, 50, alpha=0.5, cmap=plt.get_cmap('jet'))\n",
    "    plt.plot([-188.4], [2.67], 'x', ms=12, markeredgewidth=3, color='orange')\n",
    "    plt.plot(b_spots, w_spots, 'o-', ms=3, lw=1.5, color='black')\n",
    "    plt.xlim(-200, -100)\n",
    "    plt.ylim(-5, 5)\n",
    "    plt.xlabel('$b$', fontsize=16)\n",
    "    plt.ylabel('$w$', fontsize=16)\n",
    "    plt.show()\n",
    "\n",
    "show_gd_plot(b_history, w_history)"
   ]
  },
  {
   "cell_type": "code",
   "execution_count": 20,
   "metadata": {},
   "outputs": [
    {
     "data": {
      "image/png": "[encoded data removed]",
      "text/plain": [
       "<Figure size 432x288 with 1 Axes>"
      ]
     },
     "metadata": {},
     "output_type": "display_data"
    }
   ],
   "source": [
    "# 設定 b 和 w 初始值\n",
    "b = -120\n",
    "w = -4\n",
    "lr = 0.0000001\n",
    "iteration = 100000\n",
    "\n",
    "# 包成 Function\n",
    "def do_gradient_descent(b_init, w_init, l_rate, loop_times):\n",
    "    b_update = b_init\n",
    "    w_update = w_init\n",
    "    b_spots_list = [b_init]\n",
    "    w_spots_list = [w_init]\n",
    "\n",
    "    for i in range(loop_times):\n",
    "\n",
    "        b_grad = 0.0\n",
    "        w_grad = 0.0\n",
    "\n",
    "        for n in range(len(x_data)):\n",
    "            # 計算對 b 和 w 偏微分後的值\n",
    "            b_grad = b_grad - 2.0*(y_data[n] - (b_update + w_update*x_data[n])) \n",
    "            w_grad = w_grad - 2.0*(y_data[n] - (b_update + w_update*x_data[n])) * x_data[n] # 對 w 做偏微分\n",
    "\n",
    "        # 更新參數 b 和 w\n",
    "        b_update = b_update - l_rate * b_grad\n",
    "        w_update = w_update - l_rate * w_grad\n",
    "\n",
    "        # 儲存每次更新後的 b 和 w\n",
    "        b_spots_list.append(b_update)\n",
    "        w_spots_list.append(w_update)\n",
    "    \n",
    "    return b_spots_list, w_spots_list\n",
    "\n",
    "b_history, w_history = do_gradient_descent(b, w, lr, iteration)\n",
    "show_gd_plot(b_history, w_history)"
   ]
  },
  {
   "cell_type": "code",
   "execution_count": 21,
   "metadata": {},
   "outputs": [
    {
     "data": {
      "image/png": "[encoded data removed]",
      "text/plain": [
       "<Figure size 432x288 with 1 Axes>"
      ]
     },
     "metadata": {},
     "output_type": "display_data"
    }
   ],
   "source": [
    "# 將 learning rate 調大 10 倍\n",
    "lr = 0.000001\n",
    "b_history, w_history = do_gradient_descent(b, w, lr, iteration)\n",
    "show_gd_plot(b_history, w_history)"
   ]
  },
  {
   "cell_type": "code",
   "execution_count": 24,
   "metadata": {},
   "outputs": [
    {
     "data": {
      "image/png": "[encoded data removed]",
      "text/plain": [
       "<Figure size 432x288 with 1 Axes>"
      ]
     },
     "metadata": {},
     "output_type": "display_data"
    }
   ],
   "source": [
    "# 再把 learning rate 調大 10 倍\n",
    "lr = 0.00001\n",
    "b_history, w_history = do_gradient_descent(b, w, lr, iteration)\n",
    "show_gd_plot(b_history, w_history)"
   ]
  },
  {
   "cell_type": "code",
   "execution_count": 26,
   "metadata": {},
   "outputs": [],
   "source": [
    "b = -120\n",
    "w = -4\n",
    "lr = 1\n",
    "iteration = 100000\n",
    "\n",
    "# b 和 w 分別設置各自的 learning rate\n",
    "b_lr = 0.0\n",
    "w_lr = 0.0\n",
    "\n",
    "# Store initial values for plotting.\n",
    "b_history = [b]\n",
    "w_history = [w]\n",
    "\n",
    "# Iterations\n",
    "for i in range(iteration):\n",
    "    \n",
    "    b_grad = 0.0\n",
    "    w_grad = 0.0\n",
    "    for n in range(len(x_data)):        \n",
    "        b_grad = b_grad  - 2.0*(y_data[n] - b - w*x_data[n])*1.0\n",
    "        w_grad = w_grad  - 2.0*(y_data[n] - b - w*x_data[n])*x_data[n]\n",
    "    \n",
    "    b_lr = b_lr + b_grad**2\n",
    "    w_lr = w_lr + w_grad**2\n",
    "    \n",
    "    # Update parameters.\n",
    "    b = b - lr/np.sqrt(b_lr) * b_grad \n",
    "    w = w - lr/np.sqrt(w_lr) * w_grad\n",
    "    \n",
    "    # Store parameters for plotting\n",
    "    b_history.append(b)\n",
    "    w_history.append(w)"
   ]
  },
  {
   "cell_type": "code",
   "execution_count": 27,
   "metadata": {},
   "outputs": [
    {
     "data": {
      "image/png": "[encoded data removed]",
      "text/plain": [
       "<Figure size 432x288 with 1 Axes>"
      ]
     },
     "metadata": {},
     "output_type": "display_data"
    }
   ],
   "source": [
    "show_gd_plot(b_history, w_history)"
   ]
  }
 ],
 "metadata": {
  "kernelspec": {
   "display_name": "Python 3",
   "language": "python",
   "name": "python3"
  },
  "language_info": {
   "codemirror_mode": {
    "name": "ipython",
    "version": 3
   },
   "file_extension": ".py",
   "mimetype": "text/x-python",
   "name": "python",
   "nbconvert_exporter": "python",
   "pygments_lexer": "ipython3",
   "version": "3.6.4"
  }
 },
 "nbformat": 4,
 "nbformat_minor": 2
}
